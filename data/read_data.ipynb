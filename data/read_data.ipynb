{
 "cells": [
  {
   "cell_type": "code",
   "execution_count": null,
   "id": "6f1ea3ee",
   "metadata": {},
   "outputs": [],
   "source": []
  },
  {
   "cell_type": "code",
   "execution_count": 48,
   "id": "d7737f6a",
   "metadata": {},
   "outputs": [
    {
     "name": "stdout",
     "output_type": "stream",
     "text": [
      "✅ Loaded valid genes: 19033\n",
      "✅ Filtered features: (19032, 507)\n",
      "✅ Using label: druggability_tier (unique=5)\n",
      "✅ Feature tensor shape: torch.Size([19032, 504])\n",
      "📘 RegNetwork edges: 120,579\n",
      "📙 TRRUST edges: 9,240\n",
      "📗 Coexpression edges: 17,112,557\n",
      "📕 PPI edges: 12,288,142\n",
      "✅ Saved graph to: gene_graph.pt\n",
      "\n",
      "📊 Graph Stats\n",
      "#Nodes: 19032\n",
      "#Edges: 29514972\n",
      "Self-loops: 385\n",
      "Edge types: {0: 119795, 1: 8281, 2: 17110422, 3: 12276474}\n"
     ]
    }
   ],
   "source": [
    "#!/usr/bin/env python\n",
    "# build_gene_graph.py\n",
    "\n",
    "import os\n",
    "import pandas as pd\n",
    "import torch\n",
    "from torch_geometric.data import Data\n",
    "from collections import Counter\n",
    "\n",
    "# ----- Paths -----\n",
    "FEATURE_TSV = \"/home/zihend1/Genesis/KNOT/data/processed/final_gene_druggability_features.tsv\"\n",
    "VALID_TSV = \"/home/zihend1/Genesis/KNOT/data/symbol/valid_gene_symbols.tsv\"\n",
    "REGNET_SRC = \"/extra/zhanglab0/INDV/zihend1/Genesis/KNOT/Edge/GRN/RegNetwork/Human/human.source\"\n",
    "TRRUST_TSV = \"/extra/zhanglab0/INDV/zihend1/Genesis/KNOT/Edge/GRN/TRRUST/trrust_rawdata.human.tsv\"\n",
    "COEXP_TSV = \"/extra/zhanglab0/INDV/zihend1/Genesis/KNOT/Edge/GCN/GENEFRIENDS/homo_sapiens_sapiens/GTEx/coexpression_edges_90p.tsv\"\n",
    "PPI_TSV = \"/extra/zhanglab0/INDV/zihend1/Genesis/KNOT/Edge/PPI/STRING/ppi_symbol_links.tsv\"\n",
    "OUTPUT_PTG = \"gene_graph.pt\"\n",
    "LABEL_TYPE = \"druggability_tier\"  # or \"idgTDL\"\n",
    "\n",
    "# ----- Load valid genes -----\n",
    "valid_genes = pd.read_csv(VALID_TSV, header=None, names=[\"Gene_Symbol\"])[\"Gene_Symbol\"].tolist()\n",
    "print(f\"✅ Loaded valid genes: {len(valid_genes)}\")\n",
    "\n",
    "# ----- Load features and labels -----\n",
    "df = pd.read_csv(FEATURE_TSV, sep=\"\\t\")\n",
    "\n",
    "# 筛选 valid genes，并去除重复 Gene_Symbol\n",
    "df = df[df[\"Gene_Symbol\"].isin(valid_genes)]\n",
    "df = df.drop_duplicates(subset=\"Gene_Symbol\")  # ✅ 去重\n",
    "print(f\"✅ Filtered features: {df.shape}\")\n",
    "\n",
    "# ----- Separate features and label -----\n",
    "all_columns = df.columns.tolist()\n",
    "feature_cols = [c for c in all_columns if c not in [\"Gene_Symbol\", \"druggability_tier\", \"idgTDL\"]]\n",
    "label_series = df[LABEL_TYPE].fillna(\"-1\")\n",
    "print(f\"✅ Using label: {LABEL_TYPE} (unique={label_series.nunique()})\")\n",
    "\n",
    "# ----- Build node index mapping -----\n",
    "genes = df[\"Gene_Symbol\"].tolist()\n",
    "gene2idx = {gene: i for i, gene in enumerate(genes)}\n",
    "x = torch.tensor(df[feature_cols].values, dtype=torch.float)\n",
    "print(f\"✅ Feature tensor shape: {x.shape}\")\n",
    "\n",
    "# ----- Load RegNetwork -----\n",
    "reg_edges = []\n",
    "with open(REGNET_SRC) as f:\n",
    "    for line in f:\n",
    "        src, _, tgt, _ = line.strip().split(\"\\t\")\n",
    "        if src in gene2idx and tgt in gene2idx:\n",
    "            reg_edges.append((gene2idx[src], gene2idx[tgt]))\n",
    "print(f\"📘 RegNetwork edges: {len(reg_edges):,}\")\n",
    "\n",
    "# ----- Load TRRUST -----\n",
    "trrust = pd.read_csv(TRRUST_TSV, sep=\"\\t\", header=None, names=[\"TF\", \"Target\", \"Effect\", \"PubMed\"])\n",
    "trrust_edges = [(gene2idx[s], gene2idx[t]) for s, t in zip(trrust.TF, trrust.Target) if s in gene2idx and t in gene2idx]\n",
    "print(f\"📙 TRRUST edges: {len(trrust_edges):,}\")\n",
    "\n",
    "# ----- Load Coexpression -----\n",
    "coexp = pd.read_csv(COEXP_TSV, sep=\"\\t\")\n",
    "coexp_edges = [(gene2idx[g1], gene2idx[g2]) for g1, g2 in zip(coexp[\"Gene1\"], coexp[\"Gene2\"]) if g1 in gene2idx and g2 in gene2idx]\n",
    "print(f\"📗 Coexpression edges: {len(coexp_edges):,}\")\n",
    "\n",
    "# ----- Load PPI -----\n",
    "ppi = pd.read_csv(PPI_TSV, sep=\"\\t\")\n",
    "ppi_edges = [(gene2idx[g1], gene2idx[g2]) for g1, g2 in zip(ppi[\"gene1\"], ppi[\"gene2\"]) if g1 in gene2idx and g2 in gene2idx]\n",
    "print(f\"📕 PPI edges: {len(ppi_edges):,}\")\n",
    "\n",
    "# ----- Merge edges -----\n",
    "all_edges = reg_edges + trrust_edges + coexp_edges + ppi_edges\n",
    "edge_types = [0] * len(reg_edges) + [1] * len(trrust_edges) + [2] * len(coexp_edges) + [3] * len(ppi_edges)\n",
    "\n",
    "edge_df = pd.DataFrame(all_edges, columns=[\"src\", \"dst\"])\n",
    "edge_df[\"type\"] = edge_types\n",
    "edge_df = edge_df.drop_duplicates()\n",
    "edge_index = torch.tensor(edge_df[[\"src\", \"dst\"]].values.T, dtype=torch.long)\n",
    "edge_type = torch.tensor(edge_df[\"type\"].values, dtype=torch.long)\n",
    "\n",
    "# ----- Construct PyG graph -----\n",
    "data = Data(x=x, edge_index=edge_index, edge_type=edge_type, y=label_series)\n",
    "torch.save(data, OUTPUT_PTG)\n",
    "print(f\"✅ Saved graph to: {OUTPUT_PTG}\")\n",
    "\n",
    "# ----- Summary -----\n",
    "print(\"\\n📊 Graph Stats\")\n",
    "print(f\"#Nodes: {data.num_nodes}\")\n",
    "print(f\"#Edges: {data.num_edges}\")\n",
    "print(f\"Self-loops: {(edge_index[0] == edge_index[1]).sum().item()}\")\n",
    "print(f\"Edge types: {dict(Counter(edge_type.tolist()))}\")\n"
   ]
  },
  {
   "cell_type": "code",
   "execution_count": null,
   "id": "4362fe92",
   "metadata": {},
   "outputs": [],
   "source": []
  },
  {
   "cell_type": "code",
   "execution_count": null,
   "id": "45430734",
   "metadata": {},
   "outputs": [],
   "source": []
  },
  {
   "cell_type": "code",
   "execution_count": null,
   "id": "f2743e8b",
   "metadata": {},
   "outputs": [],
   "source": []
  },
  {
   "cell_type": "code",
   "execution_count": null,
   "id": "823493e2",
   "metadata": {},
   "outputs": [],
   "source": []
  },
  {
   "cell_type": "code",
   "execution_count": null,
   "id": "49c12c32",
   "metadata": {},
   "outputs": [],
   "source": []
  },
  {
   "cell_type": "code",
   "execution_count": null,
   "id": "3957387f",
   "metadata": {},
   "outputs": [],
   "source": []
  },
  {
   "cell_type": "code",
   "execution_count": null,
   "id": "ea27d878",
   "metadata": {},
   "outputs": [],
   "source": []
  },
  {
   "cell_type": "code",
   "execution_count": null,
   "id": "4c73b52d",
   "metadata": {},
   "outputs": [],
   "source": []
  },
  {
   "cell_type": "code",
   "execution_count": null,
   "id": "e0e7277b",
   "metadata": {},
   "outputs": [],
   "source": []
  },
  {
   "cell_type": "code",
   "execution_count": null,
   "id": "56cbfe4b",
   "metadata": {},
   "outputs": [],
   "source": []
  },
  {
   "cell_type": "code",
   "execution_count": null,
   "id": "6c9a9a39",
   "metadata": {},
   "outputs": [],
   "source": []
  },
  {
   "cell_type": "code",
   "execution_count": 36,
   "id": "791c8190",
   "metadata": {},
   "outputs": [
    {
     "name": "stdout",
     "output_type": "stream",
     "text": [
      "🔍 Loading gene symbols from feature table...\n",
      "✅ Total unique gene symbols loaded: 19,846\n",
      "🔎 Validating gene symbols with mygene.info ...\n"
     ]
    },
    {
     "name": "stderr",
     "output_type": "stream",
     "text": [
      "Validating batches:   0%|          | 0/20 [00:00<?, ?it/s]Input sequence provided is already in string format. No operation performed\n",
      "Input sequence provided is already in string format. No operation performed\n",
      "13 input query terms found dup hits:\t[('NCF1C', 2), ('FAM86JP', 2), ('NBPF5P', 2), ('ERVK13-1', 2), ('OR4F4', 2), ('MEIS3P1', 2), ('PMS2P\n",
      "32 input query terms found no hit:\t['FBXL21', 'ZNF705F', 'RARRES3', 'IQCA1', 'FAM104B', 'ZBED9', 'BTNL10', 'C19orf70', 'CIR1', 'IMPAD1'\n",
      "Validating batches:   5%|▌         | 1/20 [00:02<00:41,  2.20s/it]Input sequence provided is already in string format. No operation performed\n",
      "Input sequence provided is already in string format. No operation performed\n"
     ]
    },
    {
     "name": "stdout",
     "output_type": "stream",
     "text": [
      "🧬 Batch 0: 982 found, 32 not found\n"
     ]
    },
    {
     "name": "stderr",
     "output_type": "stream",
     "text": [
      "16 input query terms found dup hits:\t[('WASH4P', 2), ('FAM86C2P', 2), ('PPP1R2P1', 9), ('POM121B', 2), ('NSUN5P2', 2), ('SNRPGP15', 2), (\n",
      "45 input query terms found no hit:\t['KIAA1324L', 'UHRF1BP1', 'HSPB11', 'HRASLS', 'HIST1H2BL', 'HIST1H2BN', 'HIST1H2AJ', 'HIST1H2BM', 'O\n",
      "Validating batches:  10%|█         | 2/20 [00:04<00:37,  2.11s/it]Input sequence provided is already in string format. No operation performed\n",
      "Input sequence provided is already in string format. No operation performed\n"
     ]
    },
    {
     "name": "stdout",
     "output_type": "stream",
     "text": [
      "🧬 Batch 1000: 978 found, 45 not found\n"
     ]
    },
    {
     "name": "stderr",
     "output_type": "stream",
     "text": [
      "8 input query terms found dup hits:\t[('BIRC8', 2), ('TMCO5B', 2), ('PRR34', 2), ('PRORSD1P', 2), ('PMS2P2', 2), ('DEFB108A', 3), ('CA5BP\n",
      "50 input query terms found no hit:\t['FAM160B2', 'TMEM246', 'FAM105A', 'ATP5S', 'C11orf70', 'DOPEY2', 'DUSP13', 'TMEM75', 'FAM71D', 'C22\n",
      "Validating batches:  15%|█▌        | 3/20 [00:06<00:34,  2.02s/it]Input sequence provided is already in string format. No operation performed\n",
      "Input sequence provided is already in string format. No operation performed\n"
     ]
    },
    {
     "name": "stdout",
     "output_type": "stream",
     "text": [
      "🧬 Batch 2000: 959 found, 50 not found\n"
     ]
    },
    {
     "name": "stderr",
     "output_type": "stream",
     "text": [
      "13 input query terms found dup hits:\t[('NAT8B', 3), ('IGKV3-11', 2), ('LINC01546', 2), ('IGHV5-10-1', 2), ('STRCP1', 2), ('FOLH1B', 2), (\n",
      "36 input query terms found no hit:\t['C3orf14', 'ADAL', 'C8orf37', 'LINC00643', 'TCRB', 'TCRA', 'C20orf78', 'KIAA0895L', 'C14orf37', 'PR\n",
      "Validating batches:  20%|██        | 4/20 [00:08<00:33,  2.08s/it]Input sequence provided is already in string format. No operation performed\n",
      "Input sequence provided is already in string format. No operation performed\n"
     ]
    },
    {
     "name": "stdout",
     "output_type": "stream",
     "text": [
      "🧬 Batch 3000: 978 found, 36 not found\n"
     ]
    },
    {
     "name": "stderr",
     "output_type": "stream",
     "text": [
      "16 input query terms found dup hits:\t[('GKN3P', 2), ('VN1R3', 2), ('IGKV1-12', 2), ('IGKV1-6', 2), ('RHPN2P1', 2), ('FAM157B', 2), ('DHRS\n",
      "26 input query terms found no hit:\t['KIAA1107', 'HIST1H2AB', 'C15orf53', '10-Mar', 'SPERT', 'TEX45', 'TMEM189-UBE2V1', 'C11orf94', 'C3o\n",
      "Validating batches:  25%|██▌       | 5/20 [00:10<00:30,  2.02s/it]Input sequence provided is already in string format. No operation performed\n",
      "Input sequence provided is already in string format. No operation performed\n"
     ]
    },
    {
     "name": "stdout",
     "output_type": "stream",
     "text": [
      "🧬 Batch 4000: 993 found, 26 not found\n"
     ]
    },
    {
     "name": "stderr",
     "output_type": "stream",
     "text": [
      "26 input query terms found dup hits:\t[('IGLV1-36', 2), ('MPTX1', 3), ('IGHV6-1', 2), ('FABP5P3', 2), ('MAGEA13P', 2), ('PIPSL', 2), ('IGH\n",
      "39 input query terms found no hit:\t['KIAA0754', 'C7orf49', 'ZCCHC11', 'PRSS47', 'C1orf43', 'B3GNTL1', 'C17orf98', '09-Mar', 'C9orf16', \n",
      "Validating batches:  30%|███       | 6/20 [00:12<00:28,  2.00s/it]Input sequence provided is already in string format. No operation performed\n",
      "Input sequence provided is already in string format. No operation performed\n"
     ]
    },
    {
     "name": "stdout",
     "output_type": "stream",
     "text": [
      "🧬 Batch 5000: 989 found, 39 not found\n"
     ]
    },
    {
     "name": "stderr",
     "output_type": "stream",
     "text": [
      "27 input query terms found dup hits:\t[('IGLV5-52', 2), ('KLHL30-AS1', 2), ('KIF28P', 2), ('PRKY', 2), ('ZNF658B', 2), ('EP400P1', 3), ('N\n",
      "56 input query terms found no hit:\t['MINOS1', 'WDR63', 'KIAA0391', 'FAM71C', 'NAT6', 'C7orf65', 'FAM46D', 'KIAA0355', 'C18orf65', 'KIAA\n",
      "Validating batches:  35%|███▌      | 7/20 [00:14<00:25,  1.96s/it]Input sequence provided is already in string format. No operation performed\n",
      "Input sequence provided is already in string format. No operation performed\n"
     ]
    },
    {
     "name": "stdout",
     "output_type": "stream",
     "text": [
      "🧬 Batch 6000: 974 found, 56 not found\n"
     ]
    },
    {
     "name": "stderr",
     "output_type": "stream",
     "text": [
      "9 input query terms found dup hits:\t[('DNM1P46', 2), ('EGFEM1P', 2), ('TXLNGY', 2), ('ST20-AS1', 2), ('LINC00470', 2), ('USP17L23', 2), \n",
      "48 input query terms found no hit:\t['C1orf134', 'AES', 'PQLC2L', 'HIST2H2BD', 'NARS', 'C9orf47', 'C1orf229', 'THEGL', 'CCDC129', 'TMEM1\n",
      "Validating batches:  40%|████      | 8/20 [00:16<00:23,  1.96s/it]Input sequence provided is already in string format. No operation performed\n",
      "Input sequence provided is already in string format. No operation performed\n"
     ]
    },
    {
     "name": "stdout",
     "output_type": "stream",
     "text": [
      "🧬 Batch 7000: 961 found, 48 not found\n"
     ]
    },
    {
     "name": "stderr",
     "output_type": "stream",
     "text": [
      "35 input query terms found dup hits:\t[('AHSA2P', 2), ('CCDC144NL', 2), ('IGHD', 2), ('IGHA2', 2), ('IGHA1', 2), ('IGHM', 2), ('IGHG4', 2)\n",
      "42 input query terms found no hit:\t['IQCG', 'PHB', 'TTC26', 'C5orf49', 'HIST2H4A', 'HIST1H2BC', 'STK19', 'CLLU1OS', 'KIAA1211L', 'FAM49\n",
      "Validating batches:  45%|████▌     | 9/20 [00:18<00:22,  2.03s/it]Input sequence provided is already in string format. No operation performed\n",
      "Input sequence provided is already in string format. No operation performed\n"
     ]
    },
    {
     "name": "stdout",
     "output_type": "stream",
     "text": [
      "🧬 Batch 8000: 993 found, 42 not found\n"
     ]
    },
    {
     "name": "stderr",
     "output_type": "stream",
     "text": [
      "39 input query terms found dup hits:\t[('IGKV2-28', 2), ('TCP10L2', 2), ('IGLV5-37', 2), ('IGHV1-2', 2), ('IGKV3-15', 2), ('OR10AC1', 3), \n",
      "42 input query terms found no hit:\t['SLC26A10', 'HILS1', 'CDIPT-AS1', 'CCDC105', 'C20orf196', 'ELOA3B', 'OR56B2P', 'C16orf97', 'H1FOO',\n",
      "Validating batches:  50%|█████     | 10/20 [00:20<00:20,  2.01s/it]Input sequence provided is already in string format. No operation performed\n",
      "Input sequence provided is already in string format. No operation performed\n"
     ]
    },
    {
     "name": "stdout",
     "output_type": "stream",
     "text": [
      "🧬 Batch 9000: 999 found, 42 not found\n"
     ]
    },
    {
     "name": "stderr",
     "output_type": "stream",
     "text": [
      "11 input query terms found dup hits:\t[('DPH3P1', 2), ('ANKRD19P', 2), ('NCOR1P1', 2), ('OR10J3', 3), ('ATP6AP1L', 2), ('DPY19L2P1', 2), (\n",
      "43 input query terms found no hit:\t['C1orf140', 'H1FX', 'MUM1', 'C1orf137', 'METTL11B', 'MYLPF', 'H2BFS', 'C21orf59', 'FAM46B', 'HIST1H\n",
      "Validating batches:  55%|█████▌    | 11/20 [00:22<00:17,  1.99s/it]Input sequence provided is already in string format. No operation performed\n",
      "Input sequence provided is already in string format. No operation performed\n"
     ]
    },
    {
     "name": "stdout",
     "output_type": "stream",
     "text": [
      "🧬 Batch 10000: 974 found, 43 not found\n"
     ]
    },
    {
     "name": "stderr",
     "output_type": "stream",
     "text": [
      "17 input query terms found dup hits:\t[('IGKV1D-8', 2), ('TPRXL', 2), ('GUCY1B2', 2), ('ZNF542P', 2), ('LCN1P1', 2), ('MKRN9P', 2), ('RPL1\n",
      "39 input query terms found no hit:\t['ODF3L2', 'UHRF1BP1L', 'FAM69B', 'H2AFY', 'TROVE2', 'NOV', 'SSPO', 'TMEM133', 'FAM205BP', 'TCTEX1D4\n",
      "Validating batches:  60%|██████    | 12/20 [00:24<00:15,  2.00s/it]Input sequence provided is already in string format. No operation performed\n",
      "Input sequence provided is already in string format. No operation performed\n"
     ]
    },
    {
     "name": "stdout",
     "output_type": "stream",
     "text": [
      "🧬 Batch 11000: 978 found, 39 not found\n"
     ]
    },
    {
     "name": "stderr",
     "output_type": "stream",
     "text": [
      "16 input query terms found dup hits:\t[('IGKV2-40', 2), ('STAG3L4', 2), ('PRAMEF22', 2), ('OR5G3', 2), ('OR4Q2', 2), ('CHCHD2P9', 2), ('VE\n",
      "42 input query terms found no hit:\t['WASHC2D', 'WDR34', 'FAM71B', 'C9orf170', 'FAM57A', 'FAM212A', 'KIF1BP', 'FAM213B', 'PRR31', 'TMEM2\n",
      "Validating batches:  65%|██████▌   | 13/20 [00:26<00:13,  1.97s/it]Input sequence provided is already in string format. No operation performed\n",
      "Input sequence provided is already in string format. No operation performed\n"
     ]
    },
    {
     "name": "stdout",
     "output_type": "stream",
     "text": [
      "🧬 Batch 12000: 980 found, 42 not found\n"
     ]
    },
    {
     "name": "stderr",
     "output_type": "stream",
     "text": [
      "12 input query terms found dup hits:\t[('FXYD6P3', 2), ('ORAI1', 2), ('OR3A4P', 2), ('FKBP9P1', 2), ('PRORY', 2), ('IGKV2-29', 2), ('PMCHL\n",
      "39 input query terms found no hit:\t['C9orf84', 'GGTA1P', 'C6orf106', 'SDCCAG3', 'C11orf49', '07-Sep', 'C7orf69', 'C10orf91', 'C9orf131'\n",
      "Validating batches:  70%|███████   | 14/20 [00:27<00:11,  1.95s/it]Input sequence provided is already in string format. No operation performed\n",
      "Input sequence provided is already in string format. No operation performed\n"
     ]
    },
    {
     "name": "stdout",
     "output_type": "stream",
     "text": [
      "🧬 Batch 13000: 973 found, 39 not found\n"
     ]
    },
    {
     "name": "stderr",
     "output_type": "stream",
     "text": [
      "16 input query terms found dup hits:\t[('TPTE2P1', 2), ('HSP90AA4P', 3), ('HSP90AA5P', 2), ('HSP90AB4P', 2), ('ARHGAP5-AS1', 2), ('CCNYL3'\n",
      "34 input query terms found no hit:\t['C17orf53', 'C10orf25', 'C9orf64', 'IBA57-AS1', 'ELOA3D', 'FAM69A', 'SLC9A3R2', 'FAM90A24P', 'ZNF80\n",
      "Validating batches:  75%|███████▌  | 15/20 [00:30<00:10,  2.01s/it]Input sequence provided is already in string format. No operation performed\n",
      "Input sequence provided is already in string format. No operation performed\n"
     ]
    },
    {
     "name": "stdout",
     "output_type": "stream",
     "text": [
      "🧬 Batch 14000: 984 found, 34 not found\n"
     ]
    },
    {
     "name": "stderr",
     "output_type": "stream",
     "text": [
      "25 input query terms found dup hits:\t[('GUSBP1', 2), ('FAM157A', 3), ('EXOC3-AS1', 2), ('AGAP11', 2), ('FAM220BP', 2), ('NBEAP1', 2), ('R\n",
      "39 input query terms found no hit:\t['06-Sep', 'SKIV2L', 'KIAA0141', 'FAM196B', 'HIST1H2AD', 'COLCA2', 'CCDC58', 'C21orf33', 'LCA10', 'M\n",
      "Validating batches:  80%|████████  | 16/20 [00:32<00:08,  2.13s/it]Input sequence provided is already in string format. No operation performed\n",
      "Input sequence provided is already in string format. No operation performed\n"
     ]
    },
    {
     "name": "stdout",
     "output_type": "stream",
     "text": [
      "🧬 Batch 15000: 988 found, 39 not found\n"
     ]
    },
    {
     "name": "stderr",
     "output_type": "stream",
     "text": [
      "25 input query terms found dup hits:\t[('SLCO1B7', 2), ('IGHJ1', 2), ('LPAL2', 2), ('IGKV1-9', 2), ('IGKV2-24', 2), ('IGKV1-8', 2), ('IGKV\n",
      "48 input query terms found no hit:\t['C16orf58', 'H2AFB1', 'SSSCA1', 'FAM189A1', '06-Mar', 'LINC00032', 'C6orf203', 'KIAA0556', 'FAM58BP\n",
      "Validating batches:  85%|████████▌ | 17/20 [00:34<00:06,  2.06s/it]Input sequence provided is already in string format. No operation performed\n",
      "Input sequence provided is already in string format. No operation performed\n"
     ]
    },
    {
     "name": "stdout",
     "output_type": "stream",
     "text": [
      "🧬 Batch 16000: 980 found, 48 not found\n"
     ]
    },
    {
     "name": "stderr",
     "output_type": "stream",
     "text": [
      "17 input query terms found dup hits:\t[('FAM47DP', 2), ('RRP7BP', 2), ('ADGRE4P', 2), ('CROCCP2', 2), ('ARIH2OS', 2), ('NCF1B', 2), ('NANO\n",
      "34 input query terms found no hit:\t['C7orf31', 'HIST1H4G', 'BMT2', 'HIST1H2BK', 'C9orf118', 'C20orf187', 'FAM173A', 'FOPNL', 'PALM2-AKA\n",
      "Validating batches:  90%|█████████ | 18/20 [00:36<00:04,  2.03s/it]Input sequence provided is already in string format. No operation performed\n",
      "Input sequence provided is already in string format. No operation performed\n"
     ]
    },
    {
     "name": "stdout",
     "output_type": "stream",
     "text": [
      "🧬 Batch 17000: 984 found, 34 not found\n"
     ]
    },
    {
     "name": "stderr",
     "output_type": "stream",
     "text": [
      "20 input query terms found dup hits:\t[('IGLV7-43', 2), ('HSP90AA2P', 2), ('ZNF355P', 2), ('SNURFL', 2), ('ABCC13', 2), ('PRSS29P', 2), ('\n",
      "53 input query terms found no hit:\t['C14orf178', 'PQLC3', 'C11orf80', 'C1orf147', 'TCTEX1D1', 'C16orf45', 'FAM207A', 'C5orf38', 'HIST3H\n",
      "Validating batches:  95%|█████████▌| 19/20 [00:38<00:02,  2.06s/it]Input sequence provided is already in string format. No operation performed\n",
      "Input sequence provided is already in string format. No operation performed\n"
     ]
    },
    {
     "name": "stdout",
     "output_type": "stream",
     "text": [
      "🧬 Batch 18000: 967 found, 53 not found\n"
     ]
    },
    {
     "name": "stderr",
     "output_type": "stream",
     "text": [
      "9 input query terms found dup hits:\t[('BTN2A3P', 2), ('FMO6P', 2), ('SERHL', 2), ('C5orf67', 2), ('FAM90A2P', 2), ('RPL37AP8', 2), ('FAM\n",
      "27 input query terms found no hit:\t['C11orf88', 'BHLHB9', 'KIAA1324', 'LINC00337', 'GK3P', 'FAM183A', 'ALG1L', 'BCE1', 'TTC37', 'KDELC1\n",
      "Validating batches: 100%|██████████| 20/20 [00:40<00:00,  2.04s/it]"
     ]
    },
    {
     "name": "stdout",
     "output_type": "stream",
     "text": [
      "🧬 Batch 19000: 828 found, 27 not found\n",
      "\n",
      "✅ Validation complete.\n",
      "🟢 Valid gene symbols  : 19,032\n",
      "🔴 Invalid gene symbols: 814\n",
      "\n",
      "📁 Files saved:\n",
      "  • valid_gene_symbols.tsv\n",
      "  • invalid_gene_symbols.tsv\n"
     ]
    },
    {
     "name": "stderr",
     "output_type": "stream",
     "text": [
      "\n"
     ]
    }
   ],
   "source": [
    "#!/usr/bin/env python\n",
    "# filter_valid_genes.py\n",
    "\n",
    "import pandas as pd\n",
    "import mygene\n",
    "import time\n",
    "from tqdm import tqdm\n",
    "\n",
    "# ---------- Step 1: Load gene list ----------\n",
    "print(\"🔍 Loading gene symbols from feature table...\")\n",
    "NODE_TSV = \"/home/zihend1/Genesis/KNOT/data/complete_feature_table.tsv\"\n",
    "node_df = pd.read_csv(NODE_TSV, sep=\"\\t\", dtype=str)\n",
    "gene_symbols = node_df[\"Gene_Name\"].dropna().unique().tolist()\n",
    "print(f\"✅ Total unique gene symbols loaded: {len(gene_symbols):,}\")\n",
    "\n",
    "# ---------- Step 2: Query MyGene.info ----------\n",
    "print(\"🔎 Validating gene symbols with mygene.info ...\")\n",
    "mg = mygene.MyGeneInfo()\n",
    "batch_size = 1000\n",
    "\n",
    "valid_genes = set()\n",
    "invalid_genes = set()\n",
    "\n",
    "for i in tqdm(range(0, len(gene_symbols), batch_size), desc=\"Validating batches\"):\n",
    "    batch = gene_symbols[i:i + batch_size]\n",
    "    try:\n",
    "        out = mg.querymany(batch,\n",
    "                           scopes=\"symbol\",\n",
    "                           fields=\"symbol\",\n",
    "                           species=\"human\",\n",
    "                           as_dataframe=True,\n",
    "                           returnall=False)\n",
    "\n",
    "        if isinstance(out, pd.DataFrame):\n",
    "            # Ensure 'notfound' column is boolean\n",
    "            out[\"notfound\"] = out.get(\"notfound\", False).fillna(False).astype(bool)\n",
    "\n",
    "            # Found = not notfound\n",
    "            found = out[~out[\"notfound\"]].index.tolist()\n",
    "            not_found = out[out[\"notfound\"]].index.tolist()\n",
    "\n",
    "            valid_genes.update(found)\n",
    "            invalid_genes.update(not_found)\n",
    "\n",
    "            print(f\"🧬 Batch {i}: {len(found)} found, {len(not_found)} not found\")\n",
    "\n",
    "    except Exception as e:\n",
    "        print(f\"⚠️ Error on batch {i}: {str(e)}\")\n",
    "        time.sleep(2)\n",
    "\n",
    "# ---------- Step 3: Save results ----------\n",
    "valid_genes = sorted(list(valid_genes))\n",
    "invalid_genes = sorted(list(invalid_genes))\n",
    "\n",
    "print(\"\\n✅ Validation complete.\")\n",
    "print(f\"🟢 Valid gene symbols  : {len(valid_genes):,}\")\n",
    "print(f\"🔴 Invalid gene symbols: {len(invalid_genes):,}\")\n",
    "\n",
    "# Save to files\n",
    "pd.DataFrame(valid_genes, columns=[\"Gene_Symbol\"]).to_csv(\"valid_gene_symbols.tsv\", sep=\"\\t\", index=False)\n",
    "pd.DataFrame(invalid_genes, columns=[\"Gene_Symbol\"]).to_csv(\"invalid_gene_symbols.tsv\", sep=\"\\t\", index=False)\n",
    "\n",
    "print(\"\\n📁 Files saved:\")\n",
    "print(\"  • valid_gene_symbols.tsv\")\n",
    "print(\"  • invalid_gene_symbols.tsv\")\n"
   ]
  },
  {
   "cell_type": "code",
   "execution_count": null,
   "id": "64511533",
   "metadata": {},
   "outputs": [],
   "source": []
  },
  {
   "cell_type": "code",
   "execution_count": null,
   "id": "c2796291",
   "metadata": {},
   "outputs": [],
   "source": []
  },
  {
   "cell_type": "code",
   "execution_count": 31,
   "id": "b7f746c0",
   "metadata": {},
   "outputs": [
    {
     "name": "stdout",
     "output_type": "stream",
     "text": [
      "✅ 已将所有 NaN 用 0 替代\n",
      "✅ 成功保存到: /home/zihend1/Genesis/KNOT/data/processed/final_gene_druggability_features.tsv\n",
      "✅ 成功保存到: /home/zihend1/Genesis/KNOT/data/processed/final_gene_druggability_features.tsv\n"
     ]
    }
   ],
   "source": [
    "import os\n",
    "import pandas as pd\n",
    "\n",
    "# ===== 文件路径 =====\n",
    "valid_gene_file = \"/home/zihend1/Genesis/KNOT/data/symbol/valid_gene_symbols.tsv\"\n",
    "feature_paths = {\n",
    "    \"crispr\": \"/extra/zhanglab0/INDV/zihend1/Genesis/KNOT/Feature/Depmap/processed/feature/crispr_dependency_features.tsv\",\n",
    "    \"cnv\": \"/extra/zhanglab0/INDV/zihend1/Genesis/KNOT/Feature/Depmap/processed/feature/cnv_wgs_features.tsv\",\n",
    "    \"expr\": \"/extra/zhanglab0/INDV/zihend1/Genesis/KNOT/Feature/Depmap/processed/feature/expression_features.tsv\",\n",
    "    \"damaging\": \"/extra/zhanglab0/INDV/zihend1/Genesis/KNOT/Feature/Depmap/processed/feature/damaging_mutation_features.tsv\",\n",
    "    \"hotspot\": \"/extra/zhanglab0/INDV/zihend1/Genesis/KNOT/Feature/Depmap/processed/feature/hotspot_mutation_features.tsv\",\n",
    "    \"drugnomeai\": \"/home/zihend1/Genesis/KNOT/data/raw/Triage_complete_feature_table.tsv\"\n",
    "}\n",
    "drug_label_path = \"/home/zihend1/Genesis/KNOT/data/raw/gene_druggable_labels.csv\"\n",
    "pharos_label_path = \"/home/zihend1/Genesis/KNOT/data/raw/pharos_GF_wINDEX.csv\"\n",
    "output_path = \"/home/zihend1/Genesis/KNOT/data/processed/final_gene_druggability_features.tsv\"\n",
    "\n",
    "# ===== 加载有效基因列表 =====\n",
    "valid_genes = pd.read_csv(valid_gene_file, header=None, names=[\"Gene_Symbol\"])\n",
    "\n",
    "# ===== 初始化合并表格 =====\n",
    "features = valid_genes.copy()\n",
    "\n",
    "# ===== 加载特征表并合并 =====\n",
    "for name, path in feature_paths.items():\n",
    "    df = pd.read_csv(path, sep=\"\\t\" if path.endswith(\".tsv\") else \",\")\n",
    "\n",
    "    # 统一列名\n",
    "    if 'Gene_Name' in df.columns:\n",
    "        df = df.rename(columns={\"Gene_Name\": \"Gene_Symbol\"})\n",
    "\n",
    "    # 删除错误表头行和重复基因\n",
    "    df = df[df['Gene_Symbol'].astype(str).str.lower() != 'gene_symbol']\n",
    "    df = df.drop_duplicates(subset=\"Gene_Symbol\")\n",
    "\n",
    "    # 合并\n",
    "    features = features.merge(df, on=\"Gene_Symbol\", how=\"left\")\n",
    "\n",
    "# ===== 合并标签 =====\n",
    "drug_label = pd.read_csv(drug_label_path)[[\"Gene_Name\", \"druggability_tier\"]].rename(columns={\"Gene_Name\": \"Gene_Symbol\"})\n",
    "pharos_label = pd.read_csv(pharos_label_path)[[\"Gene_Name\", \"idgTDL\"]].rename(columns={\"Gene_Name\": \"Gene_Symbol\"})\n",
    "labels = drug_label.merge(pharos_label, on=\"Gene_Symbol\", how=\"outer\")\n",
    "labels = labels[labels[\"Gene_Symbol\"].astype(str).str.lower() != \"gene_symbol\"]\n",
    "\n",
    "# 合并标签到特征表\n",
    "features = features.merge(labels, on=\"Gene_Symbol\", how=\"left\")\n",
    "\n",
    "# ===== 删除可能的冗余表头行（再次保险） =====\n",
    "features = features[features[\"Gene_Symbol\"].astype(str).str.lower() != \"gene_symbol\"]\n",
    "features[\"druggability_tier\"] = features[\"druggability_tier\"].fillna(\"-1\")\n",
    "\n",
    "# ===== 填补缺失值（推荐方式）=====\n",
    "features.fillna(0, inplace=True)\n",
    "print(\"✅ 已将所有 NaN 用 0 替代\")\n",
    "\n",
    "# ===== 保存 =====\n",
    "os.makedirs(os.path.dirname(output_path), exist_ok=True)\n",
    "features.to_csv(output_path, sep=\"\\t\", index=False)\n",
    "print(f\"✅ 成功保存到: {output_path}\")"
   ]
  },
  {
   "cell_type": "code",
   "execution_count": 32,
   "id": "b4693a73",
   "metadata": {},
   "outputs": [
    {
     "data": {
      "text/html": [
       "<div>\n",
       "<style scoped>\n",
       "    .dataframe tbody tr th:only-of-type {\n",
       "        vertical-align: middle;\n",
       "    }\n",
       "\n",
       "    .dataframe tbody tr th {\n",
       "        vertical-align: top;\n",
       "    }\n",
       "\n",
       "    .dataframe thead th {\n",
       "        text-align: right;\n",
       "    }\n",
       "</style>\n",
       "<table border=\"1\" class=\"dataframe\">\n",
       "  <thead>\n",
       "    <tr style=\"text-align: right;\">\n",
       "      <th></th>\n",
       "      <th>Gene_Symbol</th>\n",
       "      <th>crispr_dependency_mean</th>\n",
       "      <th>crispr_dependency_std</th>\n",
       "      <th>crispr_dependency_min</th>\n",
       "      <th>crispr_dependency_max</th>\n",
       "      <th>crispr_dependency_median</th>\n",
       "      <th>crispr_dependency_strong_count</th>\n",
       "      <th>cnv_wgs_mean</th>\n",
       "      <th>cnv_wgs_std</th>\n",
       "      <th>cnv_wgs_min</th>\n",
       "      <th>...</th>\n",
       "      <th>IPR_sf_WD40/YVTN repeat-like-containing domain superfamily</th>\n",
       "      <th>IPR_sf_Winged helix DNA-binding domain superfamily</th>\n",
       "      <th>IPR_sf_Winged helix-like DNA-binding domain superfamily</th>\n",
       "      <th>IPR_sf_Zinc finger C2H2 superfamily</th>\n",
       "      <th>IPR_sf_Zinc finger, FYVE/PHD-type</th>\n",
       "      <th>IPR_sf_Zinc finger, RING/FYVE/PHD-type</th>\n",
       "      <th>IPR_sf_von Willebrand factor A-like domain superfamily</th>\n",
       "      <th>known_gene</th>\n",
       "      <th>druggability_tier</th>\n",
       "      <th>idgTDL</th>\n",
       "    </tr>\n",
       "  </thead>\n",
       "  <tbody>\n",
       "    <tr>\n",
       "      <th>1</th>\n",
       "      <td>A1BG</td>\n",
       "      <td>-0.061496</td>\n",
       "      <td>0.106872</td>\n",
       "      <td>-0.626283</td>\n",
       "      <td>0.464101</td>\n",
       "      <td>-0.058588</td>\n",
       "      <td>1.0</td>\n",
       "      <td>1.089149</td>\n",
       "      <td>0.324947</td>\n",
       "      <td>0.353139</td>\n",
       "      <td>...</td>\n",
       "      <td>0.0</td>\n",
       "      <td>0.0</td>\n",
       "      <td>0.0</td>\n",
       "      <td>0.0</td>\n",
       "      <td>0.0</td>\n",
       "      <td>0.0</td>\n",
       "      <td>0.0</td>\n",
       "      <td>1.0</td>\n",
       "      <td>Tier 3B</td>\n",
       "      <td>Tbio</td>\n",
       "    </tr>\n",
       "    <tr>\n",
       "      <th>2</th>\n",
       "      <td>A1CF</td>\n",
       "      <td>-0.068786</td>\n",
       "      <td>0.103610</td>\n",
       "      <td>-0.826178</td>\n",
       "      <td>0.412459</td>\n",
       "      <td>-0.066809</td>\n",
       "      <td>4.0</td>\n",
       "      <td>1.006446</td>\n",
       "      <td>0.243072</td>\n",
       "      <td>0.448895</td>\n",
       "      <td>...</td>\n",
       "      <td>0.0</td>\n",
       "      <td>0.0</td>\n",
       "      <td>0.0</td>\n",
       "      <td>0.0</td>\n",
       "      <td>0.0</td>\n",
       "      <td>0.0</td>\n",
       "      <td>0.0</td>\n",
       "      <td>0.0</td>\n",
       "      <td>-1</td>\n",
       "      <td>Tbio</td>\n",
       "    </tr>\n",
       "    <tr>\n",
       "      <th>3</th>\n",
       "      <td>A2M</td>\n",
       "      <td>0.033482</td>\n",
       "      <td>0.097134</td>\n",
       "      <td>-0.331599</td>\n",
       "      <td>0.428117</td>\n",
       "      <td>0.032418</td>\n",
       "      <td>0.0</td>\n",
       "      <td>1.107545</td>\n",
       "      <td>0.297580</td>\n",
       "      <td>0.375062</td>\n",
       "      <td>...</td>\n",
       "      <td>0.0</td>\n",
       "      <td>0.0</td>\n",
       "      <td>0.0</td>\n",
       "      <td>0.0</td>\n",
       "      <td>0.0</td>\n",
       "      <td>0.0</td>\n",
       "      <td>0.0</td>\n",
       "      <td>1.0</td>\n",
       "      <td>Tier 3B</td>\n",
       "      <td>Tbio</td>\n",
       "    </tr>\n",
       "    <tr>\n",
       "      <th>4</th>\n",
       "      <td>A2ML1</td>\n",
       "      <td>0.068928</td>\n",
       "      <td>0.098860</td>\n",
       "      <td>-0.376827</td>\n",
       "      <td>0.480926</td>\n",
       "      <td>0.067592</td>\n",
       "      <td>0.0</td>\n",
       "      <td>1.022944</td>\n",
       "      <td>0.275505</td>\n",
       "      <td>0.316907</td>\n",
       "      <td>...</td>\n",
       "      <td>0.0</td>\n",
       "      <td>0.0</td>\n",
       "      <td>0.0</td>\n",
       "      <td>0.0</td>\n",
       "      <td>0.0</td>\n",
       "      <td>0.0</td>\n",
       "      <td>0.0</td>\n",
       "      <td>1.0</td>\n",
       "      <td>Tier 3A</td>\n",
       "      <td>Tbio</td>\n",
       "    </tr>\n",
       "    <tr>\n",
       "      <th>5</th>\n",
       "      <td>A3GALT2</td>\n",
       "      <td>-0.099010</td>\n",
       "      <td>0.125272</td>\n",
       "      <td>-0.672216</td>\n",
       "      <td>0.383656</td>\n",
       "      <td>-0.090788</td>\n",
       "      <td>4.0</td>\n",
       "      <td>0.966693</td>\n",
       "      <td>0.197476</td>\n",
       "      <td>0.296045</td>\n",
       "      <td>...</td>\n",
       "      <td>0.0</td>\n",
       "      <td>0.0</td>\n",
       "      <td>0.0</td>\n",
       "      <td>0.0</td>\n",
       "      <td>0.0</td>\n",
       "      <td>0.0</td>\n",
       "      <td>0.0</td>\n",
       "      <td>0.0</td>\n",
       "      <td>-1</td>\n",
       "      <td>Tdark</td>\n",
       "    </tr>\n",
       "    <tr>\n",
       "      <th>...</th>\n",
       "      <td>...</td>\n",
       "      <td>...</td>\n",
       "      <td>...</td>\n",
       "      <td>...</td>\n",
       "      <td>...</td>\n",
       "      <td>...</td>\n",
       "      <td>...</td>\n",
       "      <td>...</td>\n",
       "      <td>...</td>\n",
       "      <td>...</td>\n",
       "      <td>...</td>\n",
       "      <td>...</td>\n",
       "      <td>...</td>\n",
       "      <td>...</td>\n",
       "      <td>...</td>\n",
       "      <td>...</td>\n",
       "      <td>...</td>\n",
       "      <td>...</td>\n",
       "      <td>...</td>\n",
       "      <td>...</td>\n",
       "      <td>...</td>\n",
       "    </tr>\n",
       "    <tr>\n",
       "      <th>19240</th>\n",
       "      <td>ZYG11A</td>\n",
       "      <td>-0.047944</td>\n",
       "      <td>0.102375</td>\n",
       "      <td>-0.431871</td>\n",
       "      <td>0.571468</td>\n",
       "      <td>-0.050927</td>\n",
       "      <td>0.0</td>\n",
       "      <td>1.003897</td>\n",
       "      <td>0.191902</td>\n",
       "      <td>0.333292</td>\n",
       "      <td>...</td>\n",
       "      <td>0.0</td>\n",
       "      <td>0.0</td>\n",
       "      <td>0.0</td>\n",
       "      <td>0.0</td>\n",
       "      <td>0.0</td>\n",
       "      <td>0.0</td>\n",
       "      <td>0.0</td>\n",
       "      <td>0.0</td>\n",
       "      <td>-1</td>\n",
       "      <td>Tdark</td>\n",
       "    </tr>\n",
       "    <tr>\n",
       "      <th>19241</th>\n",
       "      <td>ZYG11B</td>\n",
       "      <td>-0.140896</td>\n",
       "      <td>0.127530</td>\n",
       "      <td>-0.806002</td>\n",
       "      <td>0.410633</td>\n",
       "      <td>-0.139932</td>\n",
       "      <td>8.0</td>\n",
       "      <td>1.006239</td>\n",
       "      <td>0.200860</td>\n",
       "      <td>0.475033</td>\n",
       "      <td>...</td>\n",
       "      <td>0.0</td>\n",
       "      <td>0.0</td>\n",
       "      <td>0.0</td>\n",
       "      <td>0.0</td>\n",
       "      <td>0.0</td>\n",
       "      <td>0.0</td>\n",
       "      <td>0.0</td>\n",
       "      <td>0.0</td>\n",
       "      <td>-1</td>\n",
       "      <td>Tdark</td>\n",
       "    </tr>\n",
       "    <tr>\n",
       "      <th>19242</th>\n",
       "      <td>ZYX</td>\n",
       "      <td>-0.043318</td>\n",
       "      <td>0.128729</td>\n",
       "      <td>-0.532427</td>\n",
       "      <td>0.370096</td>\n",
       "      <td>-0.034781</td>\n",
       "      <td>2.0</td>\n",
       "      <td>1.094383</td>\n",
       "      <td>0.298147</td>\n",
       "      <td>0.350219</td>\n",
       "      <td>...</td>\n",
       "      <td>0.0</td>\n",
       "      <td>0.0</td>\n",
       "      <td>0.0</td>\n",
       "      <td>0.0</td>\n",
       "      <td>0.0</td>\n",
       "      <td>0.0</td>\n",
       "      <td>0.0</td>\n",
       "      <td>0.0</td>\n",
       "      <td>-1</td>\n",
       "      <td>Tbio</td>\n",
       "    </tr>\n",
       "    <tr>\n",
       "      <th>19243</th>\n",
       "      <td>ZZEF1</td>\n",
       "      <td>-0.140179</td>\n",
       "      <td>0.119869</td>\n",
       "      <td>-0.622824</td>\n",
       "      <td>0.305158</td>\n",
       "      <td>-0.139425</td>\n",
       "      <td>10.0</td>\n",
       "      <td>0.965827</td>\n",
       "      <td>0.237389</td>\n",
       "      <td>0.000005</td>\n",
       "      <td>...</td>\n",
       "      <td>0.0</td>\n",
       "      <td>0.0</td>\n",
       "      <td>0.0</td>\n",
       "      <td>0.0</td>\n",
       "      <td>0.0</td>\n",
       "      <td>0.0</td>\n",
       "      <td>0.0</td>\n",
       "      <td>0.0</td>\n",
       "      <td>-1</td>\n",
       "      <td>Tdark</td>\n",
       "    </tr>\n",
       "    <tr>\n",
       "      <th>19244</th>\n",
       "      <td>ZZZ3</td>\n",
       "      <td>-0.312465</td>\n",
       "      <td>0.173960</td>\n",
       "      <td>-1.146622</td>\n",
       "      <td>0.369389</td>\n",
       "      <td>-0.304585</td>\n",
       "      <td>152.0</td>\n",
       "      <td>1.061421</td>\n",
       "      <td>0.277243</td>\n",
       "      <td>0.429372</td>\n",
       "      <td>...</td>\n",
       "      <td>0.0</td>\n",
       "      <td>0.0</td>\n",
       "      <td>0.0</td>\n",
       "      <td>0.0</td>\n",
       "      <td>0.0</td>\n",
       "      <td>0.0</td>\n",
       "      <td>0.0</td>\n",
       "      <td>0.0</td>\n",
       "      <td>-1</td>\n",
       "      <td>Tdark</td>\n",
       "    </tr>\n",
       "  </tbody>\n",
       "</table>\n",
       "<p>19244 rows × 507 columns</p>\n",
       "</div>"
      ],
      "text/plain": [
       "      Gene_Symbol  crispr_dependency_mean  crispr_dependency_std  \\\n",
       "1            A1BG               -0.061496               0.106872   \n",
       "2            A1CF               -0.068786               0.103610   \n",
       "3             A2M                0.033482               0.097134   \n",
       "4           A2ML1                0.068928               0.098860   \n",
       "5         A3GALT2               -0.099010               0.125272   \n",
       "...           ...                     ...                    ...   \n",
       "19240      ZYG11A               -0.047944               0.102375   \n",
       "19241      ZYG11B               -0.140896               0.127530   \n",
       "19242         ZYX               -0.043318               0.128729   \n",
       "19243       ZZEF1               -0.140179               0.119869   \n",
       "19244        ZZZ3               -0.312465               0.173960   \n",
       "\n",
       "       crispr_dependency_min  crispr_dependency_max  crispr_dependency_median  \\\n",
       "1                  -0.626283               0.464101                 -0.058588   \n",
       "2                  -0.826178               0.412459                 -0.066809   \n",
       "3                  -0.331599               0.428117                  0.032418   \n",
       "4                  -0.376827               0.480926                  0.067592   \n",
       "5                  -0.672216               0.383656                 -0.090788   \n",
       "...                      ...                    ...                       ...   \n",
       "19240              -0.431871               0.571468                 -0.050927   \n",
       "19241              -0.806002               0.410633                 -0.139932   \n",
       "19242              -0.532427               0.370096                 -0.034781   \n",
       "19243              -0.622824               0.305158                 -0.139425   \n",
       "19244              -1.146622               0.369389                 -0.304585   \n",
       "\n",
       "       crispr_dependency_strong_count  cnv_wgs_mean  cnv_wgs_std  cnv_wgs_min  \\\n",
       "1                                 1.0      1.089149     0.324947     0.353139   \n",
       "2                                 4.0      1.006446     0.243072     0.448895   \n",
       "3                                 0.0      1.107545     0.297580     0.375062   \n",
       "4                                 0.0      1.022944     0.275505     0.316907   \n",
       "5                                 4.0      0.966693     0.197476     0.296045   \n",
       "...                               ...           ...          ...          ...   \n",
       "19240                             0.0      1.003897     0.191902     0.333292   \n",
       "19241                             8.0      1.006239     0.200860     0.475033   \n",
       "19242                             2.0      1.094383     0.298147     0.350219   \n",
       "19243                            10.0      0.965827     0.237389     0.000005   \n",
       "19244                           152.0      1.061421     0.277243     0.429372   \n",
       "\n",
       "       ...  IPR_sf_WD40/YVTN repeat-like-containing domain superfamily  \\\n",
       "1      ...                                                0.0            \n",
       "2      ...                                                0.0            \n",
       "3      ...                                                0.0            \n",
       "4      ...                                                0.0            \n",
       "5      ...                                                0.0            \n",
       "...    ...                                                ...            \n",
       "19240  ...                                                0.0            \n",
       "19241  ...                                                0.0            \n",
       "19242  ...                                                0.0            \n",
       "19243  ...                                                0.0            \n",
       "19244  ...                                                0.0            \n",
       "\n",
       "       IPR_sf_Winged helix DNA-binding domain superfamily  \\\n",
       "1                                                    0.0    \n",
       "2                                                    0.0    \n",
       "3                                                    0.0    \n",
       "4                                                    0.0    \n",
       "5                                                    0.0    \n",
       "...                                                  ...    \n",
       "19240                                                0.0    \n",
       "19241                                                0.0    \n",
       "19242                                                0.0    \n",
       "19243                                                0.0    \n",
       "19244                                                0.0    \n",
       "\n",
       "       IPR_sf_Winged helix-like DNA-binding domain superfamily  \\\n",
       "1                                                    0.0         \n",
       "2                                                    0.0         \n",
       "3                                                    0.0         \n",
       "4                                                    0.0         \n",
       "5                                                    0.0         \n",
       "...                                                  ...         \n",
       "19240                                                0.0         \n",
       "19241                                                0.0         \n",
       "19242                                                0.0         \n",
       "19243                                                0.0         \n",
       "19244                                                0.0         \n",
       "\n",
       "       IPR_sf_Zinc finger C2H2 superfamily  IPR_sf_Zinc finger, FYVE/PHD-type  \\\n",
       "1                                      0.0                                0.0   \n",
       "2                                      0.0                                0.0   \n",
       "3                                      0.0                                0.0   \n",
       "4                                      0.0                                0.0   \n",
       "5                                      0.0                                0.0   \n",
       "...                                    ...                                ...   \n",
       "19240                                  0.0                                0.0   \n",
       "19241                                  0.0                                0.0   \n",
       "19242                                  0.0                                0.0   \n",
       "19243                                  0.0                                0.0   \n",
       "19244                                  0.0                                0.0   \n",
       "\n",
       "       IPR_sf_Zinc finger, RING/FYVE/PHD-type  \\\n",
       "1                                         0.0   \n",
       "2                                         0.0   \n",
       "3                                         0.0   \n",
       "4                                         0.0   \n",
       "5                                         0.0   \n",
       "...                                       ...   \n",
       "19240                                     0.0   \n",
       "19241                                     0.0   \n",
       "19242                                     0.0   \n",
       "19243                                     0.0   \n",
       "19244                                     0.0   \n",
       "\n",
       "       IPR_sf_von Willebrand factor A-like domain superfamily  known_gene  \\\n",
       "1                                                    0.0              1.0   \n",
       "2                                                    0.0              0.0   \n",
       "3                                                    0.0              1.0   \n",
       "4                                                    0.0              1.0   \n",
       "5                                                    0.0              0.0   \n",
       "...                                                  ...              ...   \n",
       "19240                                                0.0              0.0   \n",
       "19241                                                0.0              0.0   \n",
       "19242                                                0.0              0.0   \n",
       "19243                                                0.0              0.0   \n",
       "19244                                                0.0              0.0   \n",
       "\n",
       "       druggability_tier  idgTDL  \n",
       "1                Tier 3B    Tbio  \n",
       "2                     -1    Tbio  \n",
       "3                Tier 3B    Tbio  \n",
       "4                Tier 3A    Tbio  \n",
       "5                     -1   Tdark  \n",
       "...                  ...     ...  \n",
       "19240                 -1   Tdark  \n",
       "19241                 -1   Tdark  \n",
       "19242                 -1    Tbio  \n",
       "19243                 -1   Tdark  \n",
       "19244                 -1   Tdark  \n",
       "\n",
       "[19244 rows x 507 columns]"
      ]
     },
     "execution_count": 32,
     "metadata": {},
     "output_type": "execute_result"
    }
   ],
   "source": [
    "features"
   ]
  },
  {
   "cell_type": "code",
   "execution_count": 33,
   "id": "f9b0b925",
   "metadata": {},
   "outputs": [
    {
     "data": {
      "text/plain": [
       "{'-1', 'Tier 1', 'Tier 2', 'Tier 3A', 'Tier 3B'}"
      ]
     },
     "execution_count": 33,
     "metadata": {},
     "output_type": "execute_result"
    }
   ],
   "source": [
    "set(features[\"druggability_tier\"])"
   ]
  },
  {
   "cell_type": "code",
   "execution_count": 34,
   "id": "5ef49cf2",
   "metadata": {},
   "outputs": [
    {
     "data": {
      "text/plain": [
       "{'Tbio', 'Tchem', 'Tclin', 'Tdark'}"
      ]
     },
     "execution_count": 34,
     "metadata": {},
     "output_type": "execute_result"
    }
   ],
   "source": [
    "set(features[\"idgTDL\"])"
   ]
  },
  {
   "cell_type": "code",
   "execution_count": 35,
   "id": "83772270",
   "metadata": {},
   "outputs": [
    {
     "name": "stdout",
     "output_type": "stream",
     "text": [
      "✅ No NaNs found in features.\n"
     ]
    }
   ],
   "source": [
    "# 显示所有含 NaN 的列及其数量和比例\n",
    "nan_summary = features.isna().sum()\n",
    "nan_summary = nan_summary[nan_summary > 0].sort_values(ascending=False)\n",
    "\n",
    "if not nan_summary.empty:\n",
    "    total_rows = features.shape[0]\n",
    "    nan_report = pd.DataFrame({\n",
    "        \"NaN_Count\": nan_summary,\n",
    "        \"NaN_Percent\": nan_summary / total_rows * 100\n",
    "    })\n",
    "    print(\"🔍 Columns with NaNs:\\n\")\n",
    "    print(nan_report)\n",
    "else:\n",
    "    print(\"✅ No NaNs found in features.\")\n"
   ]
  },
  {
   "cell_type": "code",
   "execution_count": 36,
   "id": "fac7272a",
   "metadata": {},
   "outputs": [
    {
     "name": "stdout",
     "output_type": "stream",
     "text": [
      "⚠️ 有缺失值的基因数量: 0\n",
      "🔍 示例有缺失的基因前 10 个:\n",
      "[]\n",
      "\n",
      "📋 每个缺失基因的 NaN 列:\n",
      "Series([], dtype: float64)\n"
     ]
    }
   ],
   "source": [
    "# 找出每一行是否存在 NaN（即该基因是否有缺失值）\n",
    "gene_nan_mask = features.isna().any(axis=1)\n",
    "\n",
    "# 提取对应的 Gene_Symbol 及其 NaN 列数量\n",
    "genes_with_nan = features.loc[gene_nan_mask, \"Gene_Symbol\"]\n",
    "num_genes_with_nan = genes_with_nan.shape[0]\n",
    "\n",
    "print(f\"⚠️ 有缺失值的基因数量: {num_genes_with_nan}\")\n",
    "print(\"🔍 示例有缺失的基因前 10 个:\")\n",
    "print(genes_with_nan.head(10).tolist())\n",
    "\n",
    "# 若要查看这些基因在哪些列缺失，可以进一步输出：\n",
    "print(\"\\n📋 每个缺失基因的 NaN 列:\")\n",
    "nan_details = features.loc[gene_nan_mask]\n",
    "nan_columns_per_gene = nan_details.isna().sum(axis=1)\n",
    "print(nan_columns_per_gene.head(10))\n"
   ]
  },
  {
   "cell_type": "code",
   "execution_count": null,
   "id": "2e733e5f",
   "metadata": {},
   "outputs": [],
   "source": []
  },
  {
   "cell_type": "code",
   "execution_count": 30,
   "id": "98470a02",
   "metadata": {},
   "outputs": [
    {
     "name": "stdout",
     "output_type": "stream",
     "text": [
      "crispr     covers 17325/19033 valid genes (91.03%)\n",
      "cnv        covers 17730/19033 valid genes (93.15%)\n",
      "expr       covers 18213/19033 valid genes (95.69%)\n",
      "damaging   covers 17181/19033 valid genes (90.27%)\n",
      "hotspot    covers   518/19033 valid genes (2.72%)\n",
      "drugnomeai covers 19032/19033 valid genes (99.99%)\n"
     ]
    }
   ],
   "source": [
    "valid_gene_df = pd.read_csv(valid_gene_file, header=None, names=[\"Gene_Symbol\"])\n",
    "valid_genes = set(valid_gene_df[\"Gene_Symbol\"])\n",
    "\n",
    "features = valid_gene_df.copy()\n",
    "\n",
    "for name, path in feature_paths.items():\n",
    "    df = pd.read_csv(path, sep=\"\\t\" if path.endswith(\".tsv\") else \",\")\n",
    "    if 'Gene_Name' in df.columns:\n",
    "        df = df.rename(columns={\"Gene_Name\": \"Gene_Symbol\"})\n",
    "    df = df[df['Gene_Symbol'].astype(str).str.lower() != 'gene_symbol']\n",
    "    df = df.drop_duplicates(subset=\"Gene_Symbol\")\n",
    "    \n",
    "    # ✅ 打印交集覆盖率\n",
    "    overlap = df[\"Gene_Symbol\"].isin(valid_genes).sum()\n",
    "    print(f\"{name:<10} covers {overlap:>5}/{len(valid_genes):<5} valid genes \"\n",
    "          f\"({overlap/len(valid_genes)*100:.2f}%)\")\n",
    "    \n",
    "    features = features.merge(df, on=\"Gene_Symbol\", how=\"left\")\n"
   ]
  },
  {
   "cell_type": "code",
   "execution_count": null,
   "id": "c0e95854",
   "metadata": {},
   "outputs": [],
   "source": []
  }
 ],
 "metadata": {
  "kernelspec": {
   "display_name": "knot",
   "language": "python",
   "name": "python3"
  },
  "language_info": {
   "codemirror_mode": {
    "name": "ipython",
    "version": 3
   },
   "file_extension": ".py",
   "mimetype": "text/x-python",
   "name": "python",
   "nbconvert_exporter": "python",
   "pygments_lexer": "ipython3",
   "version": "3.8.20"
  }
 },
 "nbformat": 4,
 "nbformat_minor": 5
}
